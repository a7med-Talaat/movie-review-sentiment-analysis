{
 "cells": [
  {
   "cell_type": "markdown",
   "id": "17c443fe",
   "metadata": {
    "papermill": {
     "duration": 0.005421,
     "end_time": "2025-08-25T20:02:35.605621",
     "exception": false,
     "start_time": "2025-08-25T20:02:35.600200",
     "status": "completed"
    },
    "tags": []
   },
   "source": [
    "## Import Libraries & Setup"
   ]
  },
  {
   "cell_type": "code",
   "execution_count": 1,
   "id": "efcfb795",
   "metadata": {
    "_cell_guid": "b1076dfc-b9ad-4769-8c92-a6c4dae69d19",
    "_uuid": "8f2839f25d086af736a60e9eeb907d3b93b6e0e5",
    "execution": {
     "iopub.execute_input": "2025-08-25T20:02:35.616214Z",
     "iopub.status.busy": "2025-08-25T20:02:35.615894Z",
     "iopub.status.idle": "2025-08-25T20:02:39.940979Z",
     "shell.execute_reply": "2025-08-25T20:02:39.939898Z"
    },
    "papermill": {
     "duration": 4.332713,
     "end_time": "2025-08-25T20:02:39.943023",
     "exception": false,
     "start_time": "2025-08-25T20:02:35.610310",
     "status": "completed"
    },
    "tags": []
   },
   "outputs": [],
   "source": [
    "import pandas as pd\n",
    "import numpy as np\n",
    "import re\n",
    "import matplotlib.pyplot as plt\n",
    "import seaborn as sns\n",
    "\n",
    "from sklearn.model_selection import train_test_split, cross_val_score\n",
    "from sklearn.feature_extraction.text import TfidfVectorizer\n",
    "from sklearn.linear_model import LogisticRegression\n",
    "from sklearn.naive_bayes import MultinomialNB\n",
    "from sklearn.metrics import accuracy_score, classification_report, confusion_matrix\n",
    "\n",
    "sns.set(style=\"whitegrid\")"
   ]
  },
  {
   "cell_type": "markdown",
   "id": "96ddc6dc",
   "metadata": {
    "papermill": {
     "duration": 0.004426,
     "end_time": "2025-08-25T20:02:39.952326",
     "exception": false,
     "start_time": "2025-08-25T20:02:39.947900",
     "status": "completed"
    },
    "tags": []
   },
   "source": [
    "## Load Dataset"
   ]
  },
  {
   "cell_type": "code",
   "execution_count": 2,
   "id": "a24e59b7",
   "metadata": {
    "execution": {
     "iopub.execute_input": "2025-08-25T20:02:39.963820Z",
     "iopub.status.busy": "2025-08-25T20:02:39.962450Z",
     "iopub.status.idle": "2025-08-25T20:02:40.000316Z",
     "shell.execute_reply": "2025-08-25T20:02:39.999580Z"
    },
    "papermill": {
     "duration": 0.045112,
     "end_time": "2025-08-25T20:02:40.001935",
     "exception": false,
     "start_time": "2025-08-25T20:02:39.956823",
     "status": "completed"
    },
    "tags": []
   },
   "outputs": [],
   "source": [
    "train = pd.read_csv('/kaggle/input/py-sphere-movie-review-sentiment-challenge/train.csv')\n",
    "test = pd.read_csv('/kaggle/input/py-sphere-movie-review-sentiment-challenge/test.csv')"
   ]
  },
  {
   "cell_type": "markdown",
   "id": "c2b65f06",
   "metadata": {
    "papermill": {
     "duration": 0.004313,
     "end_time": "2025-08-25T20:02:40.010910",
     "exception": false,
     "start_time": "2025-08-25T20:02:40.006597",
     "status": "completed"
    },
    "tags": []
   },
   "source": [
    "## Basic Info"
   ]
  },
  {
   "cell_type": "code",
   "execution_count": 3,
   "id": "fffa7db2",
   "metadata": {
    "execution": {
     "iopub.execute_input": "2025-08-25T20:02:40.021186Z",
     "iopub.status.busy": "2025-08-25T20:02:40.020872Z",
     "iopub.status.idle": "2025-08-25T20:02:40.026089Z",
     "shell.execute_reply": "2025-08-25T20:02:40.025177Z"
    },
    "papermill": {
     "duration": 0.012069,
     "end_time": "2025-08-25T20:02:40.027498",
     "exception": false,
     "start_time": "2025-08-25T20:02:40.015429",
     "status": "completed"
    },
    "tags": []
   },
   "outputs": [
    {
     "name": "stdout",
     "output_type": "stream",
     "text": [
      "(1600, 3) (5001, 3)\n"
     ]
    }
   ],
   "source": [
    "print(train.shape, test.shape)"
   ]
  },
  {
   "cell_type": "markdown",
   "id": "6bd16c76",
   "metadata": {
    "papermill": {
     "duration": 0.005091,
     "end_time": "2025-08-25T20:02:40.037274",
     "exception": false,
     "start_time": "2025-08-25T20:02:40.032183",
     "status": "completed"
    },
    "tags": []
   },
   "source": [
    "## EDA "
   ]
  },
  {
   "cell_type": "code",
   "execution_count": 4,
   "id": "3307896c",
   "metadata": {
    "execution": {
     "iopub.execute_input": "2025-08-25T20:02:40.048948Z",
     "iopub.status.busy": "2025-08-25T20:02:40.048593Z",
     "iopub.status.idle": "2025-08-25T20:02:40.073310Z",
     "shell.execute_reply": "2025-08-25T20:02:40.072105Z"
    },
    "papermill": {
     "duration": 0.032335,
     "end_time": "2025-08-25T20:02:40.074862",
     "exception": false,
     "start_time": "2025-08-25T20:02:40.042527",
     "status": "completed"
    },
    "tags": []
   },
   "outputs": [
    {
     "name": "stdout",
     "output_type": "stream",
     "text": [
      "     id                                             review  sentiment\n",
      "0  1861                A masterpiece! Highly recommend it.          1\n",
      "1   354        The characters were flat and uninteresting.          0\n",
      "2  1334          Awful visuals and horrible sound quality.          0\n",
      "3   906  What a fantastic experience, I enjoyed every m...          1\n",
      "4  1290            I couldn't stop smiling while watching.          1\n",
      "sentiment\n",
      "1    801\n",
      "0    799\n",
      "Name: count, dtype: int64\n",
      "id           0\n",
      "review       0\n",
      "sentiment    0\n",
      "dtype: int64\n"
     ]
    }
   ],
   "source": [
    "print(train.head())\n",
    "print(train['sentiment'].value_counts())\n",
    "print(train.isna().sum())\n",
    "\n",
    "train['length'] = train['review'].str.split().apply(lambda x: len(x) if isinstance(x, list) else 0)"
   ]
  },
  {
   "cell_type": "markdown",
   "id": "0c8494ba",
   "metadata": {
    "papermill": {
     "duration": 0.004481,
     "end_time": "2025-08-25T20:02:40.084129",
     "exception": false,
     "start_time": "2025-08-25T20:02:40.079648",
     "status": "completed"
    },
    "tags": []
   },
   "source": [
    "## Data Visualization"
   ]
  },
  {
   "cell_type": "code",
   "execution_count": 5,
   "id": "ec0aaac1",
   "metadata": {
    "execution": {
     "iopub.execute_input": "2025-08-25T20:02:40.095282Z",
     "iopub.status.busy": "2025-08-25T20:02:40.094601Z",
     "iopub.status.idle": "2025-08-25T20:02:40.758487Z",
     "shell.execute_reply": "2025-08-25T20:02:40.757571Z"
    },
    "papermill": {
     "duration": 0.671183,
     "end_time": "2025-08-25T20:02:40.759965",
     "exception": false,
     "start_time": "2025-08-25T20:02:40.088782",
     "status": "completed"
    },
    "tags": []
   },
   "outputs": [
    {
     "name": "stderr",
     "output_type": "stream",
     "text": [
      "/usr/local/lib/python3.11/dist-packages/seaborn/_oldcore.py:1119: FutureWarning: use_inf_as_na option is deprecated and will be removed in a future version. Convert inf values to NaN before operating instead.\n",
      "  with pd.option_context('mode.use_inf_as_na', True):\n"
     ]
    },
    {
     "data": {
      "image/png": "[encoded data removed]",
      "text/plain": [
       "<Figure size 1200x400 with 2 Axes>"
      ]
     },
     "metadata": {},
     "output_type": "display_data"
    }
   ],
   "source": [
    "fig, axes = plt.subplots(1, 2, figsize=(12,4))\n",
    "sns.countplot(data=train, x='sentiment', ax=axes[0])\n",
    "axes[0].set_title('Class Distribution')\n",
    "\n",
    "sns.histplot(train['length'], bins=40, kde=True, ax=axes[1])\n",
    "axes[1].set_title('Review Length Distribution')\n",
    "plt.show()"
   ]
  },
  {
   "cell_type": "markdown",
   "id": "90bc8158",
   "metadata": {
    "papermill": {
     "duration": 0.005741,
     "end_time": "2025-08-25T20:02:40.771561",
     "exception": false,
     "start_time": "2025-08-25T20:02:40.765820",
     "status": "completed"
    },
    "tags": []
   },
   "source": [
    "## Text Cleaning Function"
   ]
  },
  {
   "cell_type": "code",
   "execution_count": 6,
   "id": "143f14ce",
   "metadata": {
    "execution": {
     "iopub.execute_input": "2025-08-25T20:02:40.784292Z",
     "iopub.status.busy": "2025-08-25T20:02:40.783946Z",
     "iopub.status.idle": "2025-08-25T20:02:40.789177Z",
     "shell.execute_reply": "2025-08-25T20:02:40.788252Z"
    },
    "papermill": {
     "duration": 0.013481,
     "end_time": "2025-08-25T20:02:40.790800",
     "exception": false,
     "start_time": "2025-08-25T20:02:40.777319",
     "status": "completed"
    },
    "tags": []
   },
   "outputs": [],
   "source": [
    "def clean_text(text):\n",
    "    text = re.sub(r'<.*?>', '', str(text))\n",
    "    text = re.sub(r'http\\S+|www\\.\\S+', '', text)\n",
    "    text = re.sub(r'[^a-zA-Z ]', ' ', text)\n",
    "    text = re.sub(r'\\s+', ' ', text).strip()\n",
    "    return text.lower()"
   ]
  },
  {
   "cell_type": "markdown",
   "id": "c19e93dd",
   "metadata": {
    "papermill": {
     "duration": 0.005696,
     "end_time": "2025-08-25T20:02:40.802803",
     "exception": false,
     "start_time": "2025-08-25T20:02:40.797107",
     "status": "completed"
    },
    "tags": []
   },
   "source": [
    "## Apply Cleaning Function to Dataset"
   ]
  },
  {
   "cell_type": "code",
   "execution_count": 7,
   "id": "71234a2c",
   "metadata": {
    "execution": {
     "iopub.execute_input": "2025-08-25T20:02:40.815828Z",
     "iopub.status.busy": "2025-08-25T20:02:40.815470Z",
     "iopub.status.idle": "2025-08-25T20:02:40.861664Z",
     "shell.execute_reply": "2025-08-25T20:02:40.860773Z"
    },
    "papermill": {
     "duration": 0.0548,
     "end_time": "2025-08-25T20:02:40.863375",
     "exception": false,
     "start_time": "2025-08-25T20:02:40.808575",
     "status": "completed"
    },
    "tags": []
   },
   "outputs": [],
   "source": [
    "train['clean'] = train['review'].apply(clean_text)\n",
    "test['clean']  = test['review'].apply(clean_text)"
   ]
  },
  {
   "cell_type": "markdown",
   "id": "ba77a307",
   "metadata": {
    "papermill": {
     "duration": 0.005656,
     "end_time": "2025-08-25T20:02:40.875063",
     "exception": false,
     "start_time": "2025-08-25T20:02:40.869407",
     "status": "completed"
    },
    "tags": []
   },
   "source": [
    "## Split Data into Train & Validation Sets"
   ]
  },
  {
   "cell_type": "code",
   "execution_count": 8,
   "id": "39b46077",
   "metadata": {
    "execution": {
     "iopub.execute_input": "2025-08-25T20:02:40.889159Z",
     "iopub.status.busy": "2025-08-25T20:02:40.888315Z",
     "iopub.status.idle": "2025-08-25T20:02:40.897641Z",
     "shell.execute_reply": "2025-08-25T20:02:40.896771Z"
    },
    "papermill": {
     "duration": 0.01764,
     "end_time": "2025-08-25T20:02:40.899240",
     "exception": false,
     "start_time": "2025-08-25T20:02:40.881600",
     "status": "completed"
    },
    "tags": []
   },
   "outputs": [],
   "source": [
    "X_train, X_val, y_train, y_val = train_test_split(\n",
    "    train['clean'], train['sentiment'],\n",
    "    test_size=0.2, random_state=42, stratify=train['sentiment']\n",
    ")"
   ]
  },
  {
   "cell_type": "markdown",
   "id": "2f12151c",
   "metadata": {
    "papermill": {
     "duration": 0.005767,
     "end_time": "2025-08-25T20:02:40.911471",
     "exception": false,
     "start_time": "2025-08-25T20:02:40.905704",
     "status": "completed"
    },
    "tags": []
   },
   "source": [
    "## Feature Extraction with TF-IDF"
   ]
  },
  {
   "cell_type": "code",
   "execution_count": 9,
   "id": "f88a7ac8",
   "metadata": {
    "execution": {
     "iopub.execute_input": "2025-08-25T20:02:40.924892Z",
     "iopub.status.busy": "2025-08-25T20:02:40.924093Z",
     "iopub.status.idle": "2025-08-25T20:02:40.979627Z",
     "shell.execute_reply": "2025-08-25T20:02:40.978631Z"
    },
    "papermill": {
     "duration": 0.06399,
     "end_time": "2025-08-25T20:02:40.981299",
     "exception": false,
     "start_time": "2025-08-25T20:02:40.917309",
     "status": "completed"
    },
    "tags": []
   },
   "outputs": [],
   "source": [
    "tfidf = TfidfVectorizer(max_features=1000, stop_words='english')\n",
    "X_train_vec = tfidf.fit_transform(X_train)\n",
    "X_val_vec   = tfidf.transform(X_val)\n",
    "X_test_vec  = tfidf.transform(test['clean'])"
   ]
  },
  {
   "cell_type": "markdown",
   "id": "879110b8",
   "metadata": {
    "papermill": {
     "duration": 0.005516,
     "end_time": "2025-08-25T20:02:40.992800",
     "exception": false,
     "start_time": "2025-08-25T20:02:40.987284",
     "status": "completed"
    },
    "tags": []
   },
   "source": [
    "## Baseline Model (Majority Class Accuracy)"
   ]
  },
  {
   "cell_type": "code",
   "execution_count": 10,
   "id": "45c31b5a",
   "metadata": {
    "execution": {
     "iopub.execute_input": "2025-08-25T20:02:41.006454Z",
     "iopub.status.busy": "2025-08-25T20:02:41.006107Z",
     "iopub.status.idle": "2025-08-25T20:02:41.012482Z",
     "shell.execute_reply": "2025-08-25T20:02:41.011336Z"
    },
    "papermill": {
     "duration": 0.014861,
     "end_time": "2025-08-25T20:02:41.013987",
     "exception": false,
     "start_time": "2025-08-25T20:02:40.999126",
     "status": "completed"
    },
    "tags": []
   },
   "outputs": [
    {
     "name": "stdout",
     "output_type": "stream",
     "text": [
      "Baseline (majority) accuracy: 0.5\n"
     ]
    }
   ],
   "source": [
    "majority = int(train['sentiment'].mean() >= 0.5)\n",
    "baseline_acc = (y_val == majority).mean()\n",
    "print(\"Baseline (majority) accuracy:\", round(baseline_acc, 4))"
   ]
  },
  {
   "cell_type": "markdown",
   "id": "616e3869",
   "metadata": {
    "papermill": {
     "duration": 0.005725,
     "end_time": "2025-08-25T20:02:41.025923",
     "exception": false,
     "start_time": "2025-08-25T20:02:41.020198",
     "status": "completed"
    },
    "tags": []
   },
   "source": [
    "## Model Training – Logistic Regression"
   ]
  },
  {
   "cell_type": "code",
   "execution_count": 11,
   "id": "70ca9e2c",
   "metadata": {
    "execution": {
     "iopub.execute_input": "2025-08-25T20:02:41.040475Z",
     "iopub.status.busy": "2025-08-25T20:02:41.039373Z",
     "iopub.status.idle": "2025-08-25T20:02:41.059608Z",
     "shell.execute_reply": "2025-08-25T20:02:41.057377Z"
    },
    "papermill": {
     "duration": 0.029808,
     "end_time": "2025-08-25T20:02:41.061741",
     "exception": false,
     "start_time": "2025-08-25T20:02:41.031933",
     "status": "completed"
    },
    "tags": []
   },
   "outputs": [
    {
     "name": "stdout",
     "output_type": "stream",
     "text": [
      "LR Val Accuracy: 1.0\n"
     ]
    }
   ],
   "source": [
    "logreg = LogisticRegression(max_iter=2000, C=0.1)\n",
    "logreg.fit(X_train_vec, y_train)\n",
    "val_pred_lr = logreg.predict(X_val_vec)\n",
    "print(\"LR Val Accuracy:\", round(accuracy_score(y_val, val_pred_lr), 4))"
   ]
  },
  {
   "cell_type": "markdown",
   "id": "c2a17d79",
   "metadata": {
    "papermill": {
     "duration": 0.009474,
     "end_time": "2025-08-25T20:02:41.080885",
     "exception": false,
     "start_time": "2025-08-25T20:02:41.071411",
     "status": "completed"
    },
    "tags": []
   },
   "source": [
    "## Model Training – Naive Bayes"
   ]
  },
  {
   "cell_type": "code",
   "execution_count": 12,
   "id": "8625ceca",
   "metadata": {
    "execution": {
     "iopub.execute_input": "2025-08-25T20:02:41.102257Z",
     "iopub.status.busy": "2025-08-25T20:02:41.101499Z",
     "iopub.status.idle": "2025-08-25T20:02:41.114874Z",
     "shell.execute_reply": "2025-08-25T20:02:41.112812Z"
    },
    "papermill": {
     "duration": 0.026178,
     "end_time": "2025-08-25T20:02:41.116626",
     "exception": false,
     "start_time": "2025-08-25T20:02:41.090448",
     "status": "completed"
    },
    "tags": []
   },
   "outputs": [
    {
     "name": "stdout",
     "output_type": "stream",
     "text": [
      "NB Val Accuracy: 1.0\n"
     ]
    }
   ],
   "source": [
    "nb = MultinomialNB()\n",
    "nb.fit(X_train_vec, y_train)\n",
    "val_pred_nb = nb.predict(X_val_vec)\n",
    "print(\"NB Val Accuracy:\", round(accuracy_score(y_val, val_pred_nb), 4))"
   ]
  },
  {
   "cell_type": "markdown",
   "id": "5c470138",
   "metadata": {
    "papermill": {
     "duration": 0.009489,
     "end_time": "2025-08-25T20:02:41.136121",
     "exception": false,
     "start_time": "2025-08-25T20:02:41.126632",
     "status": "completed"
    },
    "tags": []
   },
   "source": [
    "## Model Selection & Evaluation"
   ]
  },
  {
   "cell_type": "code",
   "execution_count": 13,
   "id": "d0635f98",
   "metadata": {
    "execution": {
     "iopub.execute_input": "2025-08-25T20:02:41.157756Z",
     "iopub.status.busy": "2025-08-25T20:02:41.157396Z",
     "iopub.status.idle": "2025-08-25T20:02:41.176219Z",
     "shell.execute_reply": "2025-08-25T20:02:41.175135Z"
    },
    "papermill": {
     "duration": 0.031612,
     "end_time": "2025-08-25T20:02:41.177987",
     "exception": false,
     "start_time": "2025-08-25T20:02:41.146375",
     "status": "completed"
    },
    "tags": []
   },
   "outputs": [
    {
     "name": "stdout",
     "output_type": "stream",
     "text": [
      "Best Model: LR\n",
      "              precision    recall  f1-score   support\n",
      "\n",
      "           0       1.00      1.00      1.00       160\n",
      "           1       1.00      1.00      1.00       160\n",
      "\n",
      "    accuracy                           1.00       320\n",
      "   macro avg       1.00      1.00      1.00       320\n",
      "weighted avg       1.00      1.00      1.00       320\n",
      "\n"
     ]
    }
   ],
   "source": [
    "best_name, best_preds, best_model = (\n",
    "    (\"LR\", val_pred_lr, logreg) if accuracy_score(y_val, val_pred_lr) >= accuracy_score(y_val, val_pred_nb)\n",
    "    else (\"NB\", val_pred_nb, nb)\n",
    ")\n",
    "\n",
    "print(f\"Best Model: {best_name}\")\n",
    "print(classification_report(y_val, best_preds))"
   ]
  },
  {
   "cell_type": "markdown",
   "id": "dc3a01e7",
   "metadata": {
    "papermill": {
     "duration": 0.005775,
     "end_time": "2025-08-25T20:02:41.190127",
     "exception": false,
     "start_time": "2025-08-25T20:02:41.184352",
     "status": "completed"
    },
    "tags": []
   },
   "source": [
    "## Confusion Matrix Visualization"
   ]
  },
  {
   "cell_type": "code",
   "execution_count": 14,
   "id": "1d7484a6",
   "metadata": {
    "execution": {
     "iopub.execute_input": "2025-08-25T20:02:41.203747Z",
     "iopub.status.busy": "2025-08-25T20:02:41.203431Z",
     "iopub.status.idle": "2025-08-25T20:02:41.430155Z",
     "shell.execute_reply": "2025-08-25T20:02:41.429200Z"
    },
    "papermill": {
     "duration": 0.235627,
     "end_time": "2025-08-25T20:02:41.431827",
     "exception": false,
     "start_time": "2025-08-25T20:02:41.196200",
     "status": "completed"
    },
    "tags": []
   },
   "outputs": [
    {
     "data": {
      "image/png": "[encoded data removed]",
      "text/plain": [
       "<Figure size 640x480 with 2 Axes>"
      ]
     },
     "metadata": {},
     "output_type": "display_data"
    }
   ],
   "source": [
    "cm = confusion_matrix(y_val, best_preds)\n",
    "sns.heatmap(cm, annot=True, fmt=\"d\", cmap=\"Blues\")\n",
    "plt.title(f\"Confusion Matrix - {best_name}\")\n",
    "plt.xlabel(\"Predicted\"); plt.ylabel(\"Actual\")\n",
    "plt.show()"
   ]
  },
  {
   "cell_type": "markdown",
   "id": "249cea72",
   "metadata": {
    "papermill": {
     "duration": 0.00697,
     "end_time": "2025-08-25T20:02:41.445881",
     "exception": false,
     "start_time": "2025-08-25T20:02:41.438911",
     "status": "completed"
    },
    "tags": []
   },
   "source": [
    "## Cross-Validation for Model Robustness"
   ]
  },
  {
   "cell_type": "code",
   "execution_count": 15,
   "id": "63e97c38",
   "metadata": {
    "execution": {
     "iopub.execute_input": "2025-08-25T20:02:41.460338Z",
     "iopub.status.busy": "2025-08-25T20:02:41.460008Z",
     "iopub.status.idle": "2025-08-25T20:02:41.524926Z",
     "shell.execute_reply": "2025-08-25T20:02:41.523140Z"
    },
    "papermill": {
     "duration": 0.074439,
     "end_time": "2025-08-25T20:02:41.526947",
     "exception": false,
     "start_time": "2025-08-25T20:02:41.452508",
     "status": "completed"
    },
    "tags": []
   },
   "outputs": [
    {
     "name": "stdout",
     "output_type": "stream",
     "text": [
      "CV Accuracy Mean: 1.0 | Std: 0.0\n"
     ]
    }
   ],
   "source": [
    "X_all = tfidf.fit_transform(train['clean'])\n",
    "cv_scores = cross_val_score(best_model, X_all, train['sentiment'], cv=5, scoring='accuracy')\n",
    "print(\"CV Accuracy Mean:\", round(cv_scores.mean(), 4), \"| Std:\", round(cv_scores.std(), 4))"
   ]
  },
  {
   "cell_type": "markdown",
   "id": "d63d4826",
   "metadata": {
    "papermill": {
     "duration": 0.010474,
     "end_time": "2025-08-25T20:02:41.548420",
     "exception": false,
     "start_time": "2025-08-25T20:02:41.537946",
     "status": "completed"
    },
    "tags": []
   },
   "source": [
    "## Visualization of Predictions"
   ]
  },
  {
   "cell_type": "code",
   "execution_count": 16,
   "id": "0b69387f",
   "metadata": {
    "execution": {
     "iopub.execute_input": "2025-08-25T20:02:41.572903Z",
     "iopub.status.busy": "2025-08-25T20:02:41.571474Z",
     "iopub.status.idle": "2025-08-25T20:02:41.757326Z",
     "shell.execute_reply": "2025-08-25T20:02:41.756304Z"
    },
    "papermill": {
     "duration": 0.199766,
     "end_time": "2025-08-25T20:02:41.758920",
     "exception": false,
     "start_time": "2025-08-25T20:02:41.559154",
     "status": "completed"
    },
    "tags": []
   },
   "outputs": [
    {
     "data": {
      "image/png": "[encoded data removed]",
      "text/plain": [
       "<Figure size 640x480 with 1 Axes>"
      ]
     },
     "metadata": {},
     "output_type": "display_data"
    }
   ],
   "source": [
    "sns.countplot(x=best_preds)\n",
    "plt.title(\"Validation Prediction Distribution\")\n",
    "plt.show()"
   ]
  },
  {
   "cell_type": "markdown",
   "id": "1bf5ed73",
   "metadata": {
    "papermill": {
     "duration": 0.00671,
     "end_time": "2025-08-25T20:02:41.772813",
     "exception": false,
     "start_time": "2025-08-25T20:02:41.766103",
     "status": "completed"
    },
    "tags": []
   },
   "source": [
    "## Final Model Training on Full Data"
   ]
  },
  {
   "cell_type": "code",
   "execution_count": 17,
   "id": "553058b5",
   "metadata": {
    "execution": {
     "iopub.execute_input": "2025-08-25T20:02:41.788753Z",
     "iopub.status.busy": "2025-08-25T20:02:41.787954Z",
     "iopub.status.idle": "2025-08-25T20:02:41.825469Z",
     "shell.execute_reply": "2025-08-25T20:02:41.824663Z"
    },
    "papermill": {
     "duration": 0.047535,
     "end_time": "2025-08-25T20:02:41.827316",
     "exception": false,
     "start_time": "2025-08-25T20:02:41.779781",
     "status": "completed"
    },
    "tags": []
   },
   "outputs": [
    {
     "data": {
      "text/html": [
       "<style>#sk-container-id-1 {color: black;background-color: white;}#sk-container-id-1 pre{padding: 0;}#sk-container-id-1 div.sk-toggleable {background-color: white;}#sk-container-id-1 label.sk-toggleable__label {cursor: pointer;display: block;width: 100%;margin-bottom: 0;padding: 0.3em;box-sizing: border-box;text-align: center;}#sk-container-id-1 label.sk-toggleable__label-arrow:before {content: \"▸\";float: left;margin-right: 0.25em;color: #696969;}#sk-container-id-1 label.sk-toggleable__label-arrow:hover:before {color: black;}#sk-container-id-1 div.sk-estimator:hover label.sk-toggleable__label-arrow:before {color: black;}#sk-container-id-1 div.sk-toggleable__content {max-height: 0;max-width: 0;overflow: hidden;text-align: left;background-color: #f0f8ff;}#sk-container-id-1 div.sk-toggleable__content pre {margin: 0.2em;color: black;border-radius: 0.25em;background-color: #f0f8ff;}#sk-container-id-1 input.sk-toggleable__control:checked~div.sk-toggleable__content {max-height: 200px;max-width: 100%;overflow: auto;}#sk-container-id-1 input.sk-toggleable__control:checked~label.sk-toggleable__label-arrow:before {content: \"▾\";}#sk-container-id-1 div.sk-estimator input.sk-toggleable__control:checked~label.sk-toggleable__label {background-color: #d4ebff;}#sk-container-id-1 div.sk-label input.sk-toggleable__control:checked~label.sk-toggleable__label {background-color: #d4ebff;}#sk-container-id-1 input.sk-hidden--visually {border: 0;clip: rect(1px 1px 1px 1px);clip: rect(1px, 1px, 1px, 1px);height: 1px;margin: -1px;overflow: hidden;padding: 0;position: absolute;width: 1px;}#sk-container-id-1 div.sk-estimator {font-family: monospace;background-color: #f0f8ff;border: 1px dotted black;border-radius: 0.25em;box-sizing: border-box;margin-bottom: 0.5em;}#sk-container-id-1 div.sk-estimator:hover {background-color: #d4ebff;}#sk-container-id-1 div.sk-parallel-item::after {content: \"\";width: 100%;border-bottom: 1px solid gray;flex-grow: 1;}#sk-container-id-1 div.sk-label:hover label.sk-toggleable__label {background-color: #d4ebff;}#sk-container-id-1 div.sk-serial::before {content: \"\";position: absolute;border-left: 1px solid gray;box-sizing: border-box;top: 0;bottom: 0;left: 50%;z-index: 0;}#sk-container-id-1 div.sk-serial {display: flex;flex-direction: column;align-items: center;background-color: white;padding-right: 0.2em;padding-left: 0.2em;position: relative;}#sk-container-id-1 div.sk-item {position: relative;z-index: 1;}#sk-container-id-1 div.sk-parallel {display: flex;align-items: stretch;justify-content: center;background-color: white;position: relative;}#sk-container-id-1 div.sk-item::before, #sk-container-id-1 div.sk-parallel-item::before {content: \"\";position: absolute;border-left: 1px solid gray;box-sizing: border-box;top: 0;bottom: 0;left: 50%;z-index: -1;}#sk-container-id-1 div.sk-parallel-item {display: flex;flex-direction: column;z-index: 1;position: relative;background-color: white;}#sk-container-id-1 div.sk-parallel-item:first-child::after {align-self: flex-end;width: 50%;}#sk-container-id-1 div.sk-parallel-item:last-child::after {align-self: flex-start;width: 50%;}#sk-container-id-1 div.sk-parallel-item:only-child::after {width: 0;}#sk-container-id-1 div.sk-dashed-wrapped {border: 1px dashed gray;margin: 0 0.4em 0.5em 0.4em;box-sizing: border-box;padding-bottom: 0.4em;background-color: white;}#sk-container-id-1 div.sk-label label {font-family: monospace;font-weight: bold;display: inline-block;line-height: 1.2em;}#sk-container-id-1 div.sk-label-container {text-align: center;}#sk-container-id-1 div.sk-container {/* jupyter's `normalize.less` sets `[hidden] { display: none; }` but bootstrap.min.css set `[hidden] { display: none !important; }` so we also need the `!important` here to be able to override the default hidden behavior on the sphinx rendered scikit-learn.org. See: https://github.com/scikit-learn/scikit-learn/issues/21755 */display: inline-block !important;position: relative;}#sk-container-id-1 div.sk-text-repr-fallback {display: none;}</style><div id=\"sk-container-id-1\" class=\"sk-top-container\"><div class=\"sk-text-repr-fallback\"><pre>LogisticRegression(C=0.1, max_iter=2000)</pre><b>In a Jupyter environment, please rerun this cell to show the HTML representation or trust the notebook. <br />On GitHub, the HTML representation is unable to render, please try loading this page with nbviewer.org.</b></div><div class=\"sk-container\" hidden><div class=\"sk-item\"><div class=\"sk-estimator sk-toggleable\"><input class=\"sk-toggleable__control sk-hidden--visually\" id=\"sk-estimator-id-1\" type=\"checkbox\" checked><label for=\"sk-estimator-id-1\" class=\"sk-toggleable__label sk-toggleable__label-arrow\">LogisticRegression</label><div class=\"sk-toggleable__content\"><pre>LogisticRegression(C=0.1, max_iter=2000)</pre></div></div></div></div></div>"
      ],
      "text/plain": [
       "LogisticRegression(C=0.1, max_iter=2000)"
      ]
     },
     "execution_count": 17,
     "metadata": {},
     "output_type": "execute_result"
    }
   ],
   "source": [
    "tfidf_final = TfidfVectorizer(max_features=1000, stop_words='english')\n",
    "X_full = tfidf_final.fit_transform(train['clean'])\n",
    "best_final = LogisticRegression(max_iter=2000, C=0.1) if best_name==\"LR\" else MultinomialNB()\n",
    "best_final.fit(X_full, train['sentiment'])"
   ]
  },
  {
   "cell_type": "markdown",
   "id": "07e4521c",
   "metadata": {
    "papermill": {
     "duration": 0.011397,
     "end_time": "2025-08-25T20:02:41.850534",
     "exception": false,
     "start_time": "2025-08-25T20:02:41.839137",
     "status": "completed"
    },
    "tags": []
   },
   "source": [
    "## Generate Predictions & Create Submission File"
   ]
  },
  {
   "cell_type": "code",
   "execution_count": 18,
   "id": "92d372d9",
   "metadata": {
    "execution": {
     "iopub.execute_input": "2025-08-25T20:02:41.875529Z",
     "iopub.status.busy": "2025-08-25T20:02:41.875189Z",
     "iopub.status.idle": "2025-08-25T20:02:41.938966Z",
     "shell.execute_reply": "2025-08-25T20:02:41.938003Z"
    },
    "papermill": {
     "duration": 0.078416,
     "end_time": "2025-08-25T20:02:41.940650",
     "exception": false,
     "start_time": "2025-08-25T20:02:41.862234",
     "status": "completed"
    },
    "tags": []
   },
   "outputs": [
    {
     "name": "stdout",
     "output_type": "stream",
     "text": [
      "Saved: submission.csv\n"
     ]
    }
   ],
   "source": [
    "X_test_final = tfidf_final.transform(test['clean'])\n",
    "test_preds = best_final.predict(X_test_final)\n",
    "\n",
    "submission = pd.DataFrame({\"id\": test['id'], \"sentiment\": test_preds})\n",
    "submission.to_csv(\"submission.csv\", index=False)\n",
    "print(\"Saved: submission.csv\")"
   ]
  }
 ],
 "metadata": {
  "kaggle": {
   "accelerator": "none",
   "dataSources": [
    {
     "databundleVersionId": 13395213,
     "sourceId": 112499,
     "sourceType": "competition"
    }
   ],
   "dockerImageVersionId": 31089,
   "isGpuEnabled": false,
   "isInternetEnabled": true,
   "language": "python",
   "sourceType": "notebook"
  },
  "kernelspec": {
   "display_name": "Python 3",
   "language": "python",
   "name": "python3"
  },
  "language_info": {
   "codemirror_mode": {
    "name": "ipython",
    "version": 3
   },
   "file_extension": ".py",
   "mimetype": "text/x-python",
   "name": "python",
   "nbconvert_exporter": "python",
   "pygments_lexer": "ipython3",
   "version": "3.11.13"
  },
  "papermill": {
   "default_parameters": {},
   "duration": 12.506852,
   "end_time": "2025-08-25T20:02:42.668476",
   "environment_variables": {},
   "exception": null,
   "input_path": "__notebook__.ipynb",
   "output_path": "__notebook__.ipynb",
   "parameters": {},
   "start_time": "2025-08-25T20:02:30.161624",
   "version": "2.6.0"
  }
 },
 "nbformat": 4,
 "nbformat_minor": 5
}
