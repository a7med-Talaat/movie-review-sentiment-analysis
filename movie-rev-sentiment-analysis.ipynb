{
 "cells": [
  {
   "cell_type": "markdown",
   "id": "e3830568",
   "metadata": {
    "papermill": {
     "duration": 0.004119,
     "end_time": "2025-09-10T15:02:31.999908",
     "exception": false,
     "start_time": "2025-09-10T15:02:31.995789",
     "status": "completed"
    },
    "tags": []
   },
   "source": [
    "## Load the data"
   ]
  },
  {
   "cell_type": "code",
   "execution_count": 1,
   "id": "6fb596f2",
   "metadata": {
    "_cell_guid": "b1076dfc-b9ad-4769-8c92-a6c4dae69d19",
    "_uuid": "8f2839f25d086af736a60e9eeb907d3b93b6e0e5",
    "execution": {
     "iopub.execute_input": "2025-09-10T15:02:32.008070Z",
     "iopub.status.busy": "2025-09-10T15:02:32.007700Z",
     "iopub.status.idle": "2025-09-10T15:02:34.044681Z",
     "shell.execute_reply": "2025-09-10T15:02:34.043784Z"
    },
    "papermill": {
     "duration": 2.042866,
     "end_time": "2025-09-10T15:02:34.046250",
     "exception": false,
     "start_time": "2025-09-10T15:02:32.003384",
     "status": "completed"
    },
    "tags": []
   },
   "outputs": [
    {
     "name": "stdout",
     "output_type": "stream",
     "text": [
      "Train DataFrame head:\n"
     ]
    },
    {
     "data": {
      "text/html": [
       "<div>\n",
       "<style scoped>\n",
       "    .dataframe tbody tr th:only-of-type {\n",
       "        vertical-align: middle;\n",
       "    }\n",
       "\n",
       "    .dataframe tbody tr th {\n",
       "        vertical-align: top;\n",
       "    }\n",
       "\n",
       "    .dataframe thead th {\n",
       "        text-align: right;\n",
       "    }\n",
       "</style>\n",
       "<table border=\"1\" class=\"dataframe\">\n",
       "  <thead>\n",
       "    <tr style=\"text-align: right;\">\n",
       "      <th></th>\n",
       "      <th>id</th>\n",
       "      <th>review</th>\n",
       "      <th>sentiment</th>\n",
       "    </tr>\n",
       "  </thead>\n",
       "  <tbody>\n",
       "    <tr>\n",
       "      <th>0</th>\n",
       "      <td>1861</td>\n",
       "      <td>A masterpiece! Highly recommend it.</td>\n",
       "      <td>1</td>\n",
       "    </tr>\n",
       "    <tr>\n",
       "      <th>1</th>\n",
       "      <td>354</td>\n",
       "      <td>The characters were flat and uninteresting.</td>\n",
       "      <td>0</td>\n",
       "    </tr>\n",
       "    <tr>\n",
       "      <th>2</th>\n",
       "      <td>1334</td>\n",
       "      <td>Awful visuals and horrible sound quality.</td>\n",
       "      <td>0</td>\n",
       "    </tr>\n",
       "    <tr>\n",
       "      <th>3</th>\n",
       "      <td>906</td>\n",
       "      <td>What a fantastic experience, I enjoyed every m...</td>\n",
       "      <td>1</td>\n",
       "    </tr>\n",
       "    <tr>\n",
       "      <th>4</th>\n",
       "      <td>1290</td>\n",
       "      <td>I couldn't stop smiling while watching.</td>\n",
       "      <td>1</td>\n",
       "    </tr>\n",
       "  </tbody>\n",
       "</table>\n",
       "</div>"
      ],
      "text/plain": [
       "     id                                             review  sentiment\n",
       "0  1861                A masterpiece! Highly recommend it.          1\n",
       "1   354        The characters were flat and uninteresting.          0\n",
       "2  1334          Awful visuals and horrible sound quality.          0\n",
       "3   906  What a fantastic experience, I enjoyed every m...          1\n",
       "4  1290            I couldn't stop smiling while watching.          1"
      ]
     },
     "metadata": {},
     "output_type": "display_data"
    },
    {
     "name": "stdout",
     "output_type": "stream",
     "text": [
      "\n",
      "Test DataFrame head:\n"
     ]
    },
    {
     "data": {
      "text/html": [
       "<div>\n",
       "<style scoped>\n",
       "    .dataframe tbody tr th:only-of-type {\n",
       "        vertical-align: middle;\n",
       "    }\n",
       "\n",
       "    .dataframe tbody tr th {\n",
       "        vertical-align: top;\n",
       "    }\n",
       "\n",
       "    .dataframe thead th {\n",
       "        text-align: right;\n",
       "    }\n",
       "</style>\n",
       "<table border=\"1\" class=\"dataframe\">\n",
       "  <thead>\n",
       "    <tr style=\"text-align: right;\">\n",
       "      <th></th>\n",
       "      <th>id</th>\n",
       "      <th>review</th>\n",
       "      <th>usage</th>\n",
       "    </tr>\n",
       "  </thead>\n",
       "  <tbody>\n",
       "    <tr>\n",
       "      <th>0</th>\n",
       "      <td>5000</td>\n",
       "      <td>Complete waste of time.</td>\n",
       "      <td>Private</td>\n",
       "    </tr>\n",
       "    <tr>\n",
       "      <th>1</th>\n",
       "      <td>5001</td>\n",
       "      <td>Disappointing from start to end.</td>\n",
       "      <td>Public</td>\n",
       "    </tr>\n",
       "    <tr>\n",
       "      <th>2</th>\n",
       "      <td>5002</td>\n",
       "      <td>Terribly boring and predictable.</td>\n",
       "      <td>Private</td>\n",
       "    </tr>\n",
       "    <tr>\n",
       "      <th>3</th>\n",
       "      <td>5003</td>\n",
       "      <td>Complete waste of time.</td>\n",
       "      <td>Public</td>\n",
       "    </tr>\n",
       "    <tr>\n",
       "      <th>4</th>\n",
       "      <td>5004</td>\n",
       "      <td>Complete waste of time.</td>\n",
       "      <td>Private</td>\n",
       "    </tr>\n",
       "  </tbody>\n",
       "</table>\n",
       "</div>"
      ],
      "text/plain": [
       "     id                            review    usage\n",
       "0  5000           Complete waste of time.  Private\n",
       "1  5001  Disappointing from start to end.   Public\n",
       "2  5002  Terribly boring and predictable.  Private\n",
       "3  5003           Complete waste of time.   Public\n",
       "4  5004           Complete waste of time.  Private"
      ]
     },
     "metadata": {},
     "output_type": "display_data"
    }
   ],
   "source": [
    "import pandas as pd\n",
    "\n",
    "train_df = pd.read_csv('/kaggle/input/py-sphere-movie-review-sentiment-challenge/train.csv')\n",
    "test_df = pd.read_csv('/kaggle/input/py-sphere-movie-review-sentiment-challenge/test.csv')\n",
    "\n",
    "print(\"Train DataFrame head:\")\n",
    "display(train_df.head())\n",
    "\n",
    "print(\"\\nTest DataFrame head:\")\n",
    "display(test_df.head())"
   ]
  },
  {
   "cell_type": "markdown",
   "id": "b4110423",
   "metadata": {
    "papermill": {
     "duration": 0.003494,
     "end_time": "2025-09-10T15:02:34.053760",
     "exception": false,
     "start_time": "2025-09-10T15:02:34.050266",
     "status": "completed"
    },
    "tags": []
   },
   "source": [
    "## Explore the data"
   ]
  },
  {
   "cell_type": "code",
   "execution_count": 2,
   "id": "aa15887d",
   "metadata": {
    "execution": {
     "iopub.execute_input": "2025-09-10T15:02:34.062917Z",
     "iopub.status.busy": "2025-09-10T15:02:34.062594Z",
     "iopub.status.idle": "2025-09-10T15:02:34.109732Z",
     "shell.execute_reply": "2025-09-10T15:02:34.108865Z"
    },
    "papermill": {
     "duration": 0.05373,
     "end_time": "2025-09-10T15:02:34.111183",
     "exception": false,
     "start_time": "2025-09-10T15:02:34.057453",
     "status": "completed"
    },
    "tags": []
   },
   "outputs": [
    {
     "data": {
      "text/html": [
       "<div>\n",
       "<style scoped>\n",
       "    .dataframe tbody tr th:only-of-type {\n",
       "        vertical-align: middle;\n",
       "    }\n",
       "\n",
       "    .dataframe tbody tr th {\n",
       "        vertical-align: top;\n",
       "    }\n",
       "\n",
       "    .dataframe thead th {\n",
       "        text-align: right;\n",
       "    }\n",
       "</style>\n",
       "<table border=\"1\" class=\"dataframe\">\n",
       "  <thead>\n",
       "    <tr style=\"text-align: right;\">\n",
       "      <th></th>\n",
       "      <th>id</th>\n",
       "      <th>review</th>\n",
       "      <th>sentiment</th>\n",
       "    </tr>\n",
       "  </thead>\n",
       "  <tbody>\n",
       "    <tr>\n",
       "      <th>0</th>\n",
       "      <td>1861</td>\n",
       "      <td>A masterpiece! Highly recommend it.</td>\n",
       "      <td>1</td>\n",
       "    </tr>\n",
       "    <tr>\n",
       "      <th>1</th>\n",
       "      <td>354</td>\n",
       "      <td>The characters were flat and uninteresting.</td>\n",
       "      <td>0</td>\n",
       "    </tr>\n",
       "    <tr>\n",
       "      <th>2</th>\n",
       "      <td>1334</td>\n",
       "      <td>Awful visuals and horrible sound quality.</td>\n",
       "      <td>0</td>\n",
       "    </tr>\n",
       "    <tr>\n",
       "      <th>3</th>\n",
       "      <td>906</td>\n",
       "      <td>What a fantastic experience, I enjoyed every m...</td>\n",
       "      <td>1</td>\n",
       "    </tr>\n",
       "    <tr>\n",
       "      <th>4</th>\n",
       "      <td>1290</td>\n",
       "      <td>I couldn't stop smiling while watching.</td>\n",
       "      <td>1</td>\n",
       "    </tr>\n",
       "  </tbody>\n",
       "</table>\n",
       "</div>"
      ],
      "text/plain": [
       "     id                                             review  sentiment\n",
       "0  1861                A masterpiece! Highly recommend it.          1\n",
       "1   354        The characters were flat and uninteresting.          0\n",
       "2  1334          Awful visuals and horrible sound quality.          0\n",
       "3   906  What a fantastic experience, I enjoyed every m...          1\n",
       "4  1290            I couldn't stop smiling while watching.          1"
      ]
     },
     "metadata": {},
     "output_type": "display_data"
    },
    {
     "data": {
      "text/html": [
       "<div>\n",
       "<style scoped>\n",
       "    .dataframe tbody tr th:only-of-type {\n",
       "        vertical-align: middle;\n",
       "    }\n",
       "\n",
       "    .dataframe tbody tr th {\n",
       "        vertical-align: top;\n",
       "    }\n",
       "\n",
       "    .dataframe thead th {\n",
       "        text-align: right;\n",
       "    }\n",
       "</style>\n",
       "<table border=\"1\" class=\"dataframe\">\n",
       "  <thead>\n",
       "    <tr style=\"text-align: right;\">\n",
       "      <th></th>\n",
       "      <th>id</th>\n",
       "      <th>review</th>\n",
       "      <th>usage</th>\n",
       "    </tr>\n",
       "  </thead>\n",
       "  <tbody>\n",
       "    <tr>\n",
       "      <th>0</th>\n",
       "      <td>5000</td>\n",
       "      <td>Complete waste of time.</td>\n",
       "      <td>Private</td>\n",
       "    </tr>\n",
       "    <tr>\n",
       "      <th>1</th>\n",
       "      <td>5001</td>\n",
       "      <td>Disappointing from start to end.</td>\n",
       "      <td>Public</td>\n",
       "    </tr>\n",
       "    <tr>\n",
       "      <th>2</th>\n",
       "      <td>5002</td>\n",
       "      <td>Terribly boring and predictable.</td>\n",
       "      <td>Private</td>\n",
       "    </tr>\n",
       "    <tr>\n",
       "      <th>3</th>\n",
       "      <td>5003</td>\n",
       "      <td>Complete waste of time.</td>\n",
       "      <td>Public</td>\n",
       "    </tr>\n",
       "    <tr>\n",
       "      <th>4</th>\n",
       "      <td>5004</td>\n",
       "      <td>Complete waste of time.</td>\n",
       "      <td>Private</td>\n",
       "    </tr>\n",
       "  </tbody>\n",
       "</table>\n",
       "</div>"
      ],
      "text/plain": [
       "     id                            review    usage\n",
       "0  5000           Complete waste of time.  Private\n",
       "1  5001  Disappointing from start to end.   Public\n",
       "2  5002  Terribly boring and predictable.  Private\n",
       "3  5003           Complete waste of time.   Public\n",
       "4  5004           Complete waste of time.  Private"
      ]
     },
     "metadata": {},
     "output_type": "display_data"
    },
    {
     "name": "stdout",
     "output_type": "stream",
     "text": [
      "<class 'pandas.core.frame.DataFrame'>\n",
      "RangeIndex: 1600 entries, 0 to 1599\n",
      "Data columns (total 3 columns):\n",
      " #   Column     Non-Null Count  Dtype \n",
      "---  ------     --------------  ----- \n",
      " 0   id         1600 non-null   int64 \n",
      " 1   review     1600 non-null   object\n",
      " 2   sentiment  1600 non-null   int64 \n",
      "dtypes: int64(2), object(1)\n",
      "memory usage: 37.6+ KB\n",
      "<class 'pandas.core.frame.DataFrame'>\n",
      "RangeIndex: 5001 entries, 0 to 5000\n",
      "Data columns (total 3 columns):\n",
      " #   Column  Non-Null Count  Dtype \n",
      "---  ------  --------------  ----- \n",
      " 0   id      5001 non-null   int64 \n",
      " 1   review  5001 non-null   object\n",
      " 2   usage   5001 non-null   object\n",
      "dtypes: int64(1), object(2)\n",
      "memory usage: 117.3+ KB\n"
     ]
    },
    {
     "data": {
      "text/plain": [
       "id           0\n",
       "review       0\n",
       "sentiment    0\n",
       "dtype: int64"
      ]
     },
     "metadata": {},
     "output_type": "display_data"
    },
    {
     "data": {
      "text/plain": [
       "id        0\n",
       "review    0\n",
       "usage     0\n",
       "dtype: int64"
      ]
     },
     "metadata": {},
     "output_type": "display_data"
    }
   ],
   "source": [
    "display(train_df.head())\n",
    "display(test_df.head())\n",
    "train_df.info()\n",
    "test_df.info()\n",
    "display(train_df.isnull().sum())\n",
    "display(test_df.isnull().sum())"
   ]
  },
  {
   "cell_type": "markdown",
   "id": "2ebce26a",
   "metadata": {
    "papermill": {
     "duration": 0.00393,
     "end_time": "2025-09-10T15:02:34.119889",
     "exception": false,
     "start_time": "2025-09-10T15:02:34.115959",
     "status": "completed"
    },
    "tags": []
   },
   "source": [
    "## Preprocess the data"
   ]
  },
  {
   "cell_type": "code",
   "execution_count": 3,
   "id": "31deb44e",
   "metadata": {
    "execution": {
     "iopub.execute_input": "2025-09-10T15:02:34.129906Z",
     "iopub.status.busy": "2025-09-10T15:02:34.129578Z",
     "iopub.status.idle": "2025-09-10T15:02:52.095128Z",
     "shell.execute_reply": "2025-09-10T15:02:52.093871Z"
    },
    "papermill": {
     "duration": 17.972719,
     "end_time": "2025-09-10T15:02:52.096891",
     "exception": false,
     "start_time": "2025-09-10T15:02:34.124172",
     "status": "completed"
    },
    "tags": []
   },
   "outputs": [
    {
     "name": "stderr",
     "output_type": "stream",
     "text": [
      "2025-09-10 15:02:36.106315: E external/local_xla/xla/stream_executor/cuda/cuda_fft.cc:477] Unable to register cuFFT factory: Attempting to register factory for plugin cuFFT when one has already been registered\n",
      "WARNING: All log messages before absl::InitializeLog() is called are written to STDERR\n",
      "E0000 00:00:1757516556.357887      13 cuda_dnn.cc:8310] Unable to register cuDNN factory: Attempting to register factory for plugin cuDNN when one has already been registered\n",
      "E0000 00:00:1757516556.430904      13 cuda_blas.cc:1418] Unable to register cuBLAS factory: Attempting to register factory for plugin cuBLAS when one has already been registered\n"
     ]
    },
    {
     "name": "stdout",
     "output_type": "stream",
     "text": [
      "Original training review example: A masterpiece! Highly recommend it.\n",
      "Padded training sequence example: [ 3 68 69 70 11  0  0  0  0  0  0  0  0  0  0  0  0  0  0  0  0  0  0  0\n",
      "  0  0  0  0  0  0  0  0  0  0  0  0  0  0  0  0  0  0  0  0  0  0  0  0\n",
      "  0  0  0  0  0  0  0  0  0  0  0  0  0  0  0  0  0  0  0  0  0  0  0  0\n",
      "  0  0  0  0  0  0  0  0  0  0  0  0  0  0  0  0  0  0  0  0  0  0  0  0\n",
      "  0  0  0  0]\n",
      "Original training sentiment label: 1\n",
      "\n",
      "Original test review example: Complete waste of time.\n",
      "Padded test sequence example: [44 45 14 46  0  0  0  0  0  0  0  0  0  0  0  0  0  0  0  0  0  0  0  0\n",
      "  0  0  0  0  0  0  0  0  0  0  0  0  0  0  0  0  0  0  0  0  0  0  0  0\n",
      "  0  0  0  0  0  0  0  0  0  0  0  0  0  0  0  0  0  0  0  0  0  0  0  0\n",
      "  0  0  0  0  0  0  0  0  0  0  0  0  0  0  0  0  0  0  0  0  0  0  0  0\n",
      "  0  0  0  0]\n"
     ]
    }
   ],
   "source": [
    "import numpy as np\n",
    "import tensorflow as tf\n",
    "from tensorflow.keras.preprocessing.text import Tokenizer\n",
    "from tensorflow.keras.preprocessing.sequence import pad_sequences\n",
    "\n",
    "max_words = 10000  \n",
    "max_len = 100     \n",
    "\n",
    "tokenizer = Tokenizer(num_words=max_words, oov_token=\"<OOV>\")\n",
    "tokenizer.fit_on_texts(train_df['review'])\n",
    "\n",
    "train_sequences = tokenizer.texts_to_sequences(train_df['review'])\n",
    "test_sequences = tokenizer.texts_to_sequences(test_df['review'])\n",
    "\n",
    "X_train_padded = pad_sequences(train_sequences, maxlen=max_len, truncating='post', padding='post')\n",
    "X_test_padded = pad_sequences(test_sequences, maxlen=max_len, truncating='post', padding='post')\n",
    "\n",
    "y_train = np.array(train_df['sentiment'])\n",
    "\n",
    "print(\"Original training review example:\", train_df['review'].iloc[0])\n",
    "print(\"Padded training sequence example:\", X_train_padded[0])\n",
    "print(\"Original training sentiment label:\", y_train[0])\n",
    "\n",
    "print(\"\\nOriginal test review example:\", test_df['review'].iloc[0])\n",
    "print(\"Padded test sequence example:\", X_test_padded[0])"
   ]
  },
  {
   "cell_type": "markdown",
   "id": "cc98a68f",
   "metadata": {
    "papermill": {
     "duration": 0.00411,
     "end_time": "2025-09-10T15:02:52.105565",
     "exception": false,
     "start_time": "2025-09-10T15:02:52.101455",
     "status": "completed"
    },
    "tags": []
   },
   "source": [
    "## Build the model"
   ]
  },
  {
   "cell_type": "code",
   "execution_count": 4,
   "id": "b2550022",
   "metadata": {
    "execution": {
     "iopub.execute_input": "2025-09-10T15:02:52.115631Z",
     "iopub.status.busy": "2025-09-10T15:02:52.115041Z",
     "iopub.status.idle": "2025-09-10T15:02:52.186981Z",
     "shell.execute_reply": "2025-09-10T15:02:52.185875Z"
    },
    "papermill": {
     "duration": 0.078954,
     "end_time": "2025-09-10T15:02:52.188784",
     "exception": false,
     "start_time": "2025-09-10T15:02:52.109830",
     "status": "completed"
    },
    "tags": []
   },
   "outputs": [
    {
     "name": "stderr",
     "output_type": "stream",
     "text": [
      "/usr/local/lib/python3.11/dist-packages/keras/src/layers/core/embedding.py:90: UserWarning: Argument `input_length` is deprecated. Just remove it.\n",
      "  warnings.warn(\n",
      "2025-09-10 15:02:52.127869: E external/local_xla/xla/stream_executor/cuda/cuda_driver.cc:152] failed call to cuInit: INTERNAL: CUDA error: Failed call to cuInit: UNKNOWN ERROR (303)\n"
     ]
    },
    {
     "data": {
      "text/html": [
       "<pre style=\"white-space:pre;overflow-x:auto;line-height:normal;font-family:Menlo,'DejaVu Sans Mono',consolas,'Courier New',monospace\"><span style=\"font-weight: bold\">Model: \"sequential\"</span>\n",
       "</pre>\n"
      ],
      "text/plain": [
       "\u001b[1mModel: \"sequential\"\u001b[0m\n"
      ]
     },
     "metadata": {},
     "output_type": "display_data"
    },
    {
     "data": {
      "text/html": [
       "<pre style=\"white-space:pre;overflow-x:auto;line-height:normal;font-family:Menlo,'DejaVu Sans Mono',consolas,'Courier New',monospace\">┏━━━━━━━━━━━━━━━━━━━━━━━━━━━━━━━━━┳━━━━━━━━━━━━━━━━━━━━━━━━┳━━━━━━━━━━━━━━━┓\n",
       "┃<span style=\"font-weight: bold\"> Layer (type)                    </span>┃<span style=\"font-weight: bold\"> Output Shape           </span>┃<span style=\"font-weight: bold\">       Param # </span>┃\n",
       "┡━━━━━━━━━━━━━━━━━━━━━━━━━━━━━━━━━╇━━━━━━━━━━━━━━━━━━━━━━━━╇━━━━━━━━━━━━━━━┩\n",
       "│ embedding (<span style=\"color: #0087ff; text-decoration-color: #0087ff\">Embedding</span>)           │ ?                      │   <span style=\"color: #00af00; text-decoration-color: #00af00\">0</span> (unbuilt) │\n",
       "├─────────────────────────────────┼────────────────────────┼───────────────┤\n",
       "│ bidirectional (<span style=\"color: #0087ff; text-decoration-color: #0087ff\">Bidirectional</span>)   │ ?                      │   <span style=\"color: #00af00; text-decoration-color: #00af00\">0</span> (unbuilt) │\n",
       "├─────────────────────────────────┼────────────────────────┼───────────────┤\n",
       "│ dense (<span style=\"color: #0087ff; text-decoration-color: #0087ff\">Dense</span>)                   │ ?                      │   <span style=\"color: #00af00; text-decoration-color: #00af00\">0</span> (unbuilt) │\n",
       "└─────────────────────────────────┴────────────────────────┴───────────────┘\n",
       "</pre>\n"
      ],
      "text/plain": [
       "┏━━━━━━━━━━━━━━━━━━━━━━━━━━━━━━━━━┳━━━━━━━━━━━━━━━━━━━━━━━━┳━━━━━━━━━━━━━━━┓\n",
       "┃\u001b[1m \u001b[0m\u001b[1mLayer (type)                   \u001b[0m\u001b[1m \u001b[0m┃\u001b[1m \u001b[0m\u001b[1mOutput Shape          \u001b[0m\u001b[1m \u001b[0m┃\u001b[1m \u001b[0m\u001b[1m      Param #\u001b[0m\u001b[1m \u001b[0m┃\n",
       "┡━━━━━━━━━━━━━━━━━━━━━━━━━━━━━━━━━╇━━━━━━━━━━━━━━━━━━━━━━━━╇━━━━━━━━━━━━━━━┩\n",
       "│ embedding (\u001b[38;5;33mEmbedding\u001b[0m)           │ ?                      │   \u001b[38;5;34m0\u001b[0m (unbuilt) │\n",
       "├─────────────────────────────────┼────────────────────────┼───────────────┤\n",
       "│ bidirectional (\u001b[38;5;33mBidirectional\u001b[0m)   │ ?                      │   \u001b[38;5;34m0\u001b[0m (unbuilt) │\n",
       "├─────────────────────────────────┼────────────────────────┼───────────────┤\n",
       "│ dense (\u001b[38;5;33mDense\u001b[0m)                   │ ?                      │   \u001b[38;5;34m0\u001b[0m (unbuilt) │\n",
       "└─────────────────────────────────┴────────────────────────┴───────────────┘\n"
      ]
     },
     "metadata": {},
     "output_type": "display_data"
    },
    {
     "data": {
      "text/html": [
       "<pre style=\"white-space:pre;overflow-x:auto;line-height:normal;font-family:Menlo,'DejaVu Sans Mono',consolas,'Courier New',monospace\"><span style=\"font-weight: bold\"> Total params: </span><span style=\"color: #00af00; text-decoration-color: #00af00\">0</span> (0.00 B)\n",
       "</pre>\n"
      ],
      "text/plain": [
       "\u001b[1m Total params: \u001b[0m\u001b[38;5;34m0\u001b[0m (0.00 B)\n"
      ]
     },
     "metadata": {},
     "output_type": "display_data"
    },
    {
     "data": {
      "text/html": [
       "<pre style=\"white-space:pre;overflow-x:auto;line-height:normal;font-family:Menlo,'DejaVu Sans Mono',consolas,'Courier New',monospace\"><span style=\"font-weight: bold\"> Trainable params: </span><span style=\"color: #00af00; text-decoration-color: #00af00\">0</span> (0.00 B)\n",
       "</pre>\n"
      ],
      "text/plain": [
       "\u001b[1m Trainable params: \u001b[0m\u001b[38;5;34m0\u001b[0m (0.00 B)\n"
      ]
     },
     "metadata": {},
     "output_type": "display_data"
    },
    {
     "data": {
      "text/html": [
       "<pre style=\"white-space:pre;overflow-x:auto;line-height:normal;font-family:Menlo,'DejaVu Sans Mono',consolas,'Courier New',monospace\"><span style=\"font-weight: bold\"> Non-trainable params: </span><span style=\"color: #00af00; text-decoration-color: #00af00\">0</span> (0.00 B)\n",
       "</pre>\n"
      ],
      "text/plain": [
       "\u001b[1m Non-trainable params: \u001b[0m\u001b[38;5;34m0\u001b[0m (0.00 B)\n"
      ]
     },
     "metadata": {},
     "output_type": "display_data"
    }
   ],
   "source": [
    "import tensorflow as tf\n",
    "from tensorflow.keras.models import Sequential\n",
    "from tensorflow.keras.layers import Embedding, LSTM, Dense, Bidirectional\n",
    "\n",
    "embedding_dim = 16  \n",
    "model = Sequential()\n",
    "model.add(Embedding(input_dim=max_words, output_dim=embedding_dim, input_length=max_len))\n",
    "model.add(Bidirectional(LSTM(32)))\n",
    "model.add(Dense(1, activation='sigmoid'))\n",
    "model.summary()"
   ]
  },
  {
   "cell_type": "markdown",
   "id": "c9b56668",
   "metadata": {
    "papermill": {
     "duration": 0.005804,
     "end_time": "2025-09-10T15:02:52.201715",
     "exception": false,
     "start_time": "2025-09-10T15:02:52.195911",
     "status": "completed"
    },
    "tags": []
   },
   "source": [
    "## Compile the model"
   ]
  },
  {
   "cell_type": "code",
   "execution_count": 5,
   "id": "dac1e4dd",
   "metadata": {
    "execution": {
     "iopub.execute_input": "2025-09-10T15:02:52.213037Z",
     "iopub.status.busy": "2025-09-10T15:02:52.212721Z",
     "iopub.status.idle": "2025-09-10T15:02:52.232710Z",
     "shell.execute_reply": "2025-09-10T15:02:52.231671Z"
    },
    "papermill": {
     "duration": 0.027613,
     "end_time": "2025-09-10T15:02:52.234445",
     "exception": false,
     "start_time": "2025-09-10T15:02:52.206832",
     "status": "completed"
    },
    "tags": []
   },
   "outputs": [],
   "source": [
    "model.compile(optimizer='adam', loss='binary_crossentropy', metrics=['accuracy'])"
   ]
  },
  {
   "cell_type": "markdown",
   "id": "4477b0a7",
   "metadata": {
    "papermill": {
     "duration": 0.004551,
     "end_time": "2025-09-10T15:02:52.244106",
     "exception": false,
     "start_time": "2025-09-10T15:02:52.239555",
     "status": "completed"
    },
    "tags": []
   },
   "source": [
    "## Train the model"
   ]
  },
  {
   "cell_type": "code",
   "execution_count": 6,
   "id": "4f6d868b",
   "metadata": {
    "execution": {
     "iopub.execute_input": "2025-09-10T15:02:52.254676Z",
     "iopub.status.busy": "2025-09-10T15:02:52.254388Z",
     "iopub.status.idle": "2025-09-10T15:03:22.990256Z",
     "shell.execute_reply": "2025-09-10T15:03:22.989370Z"
    },
    "papermill": {
     "duration": 30.743559,
     "end_time": "2025-09-10T15:03:22.992373",
     "exception": false,
     "start_time": "2025-09-10T15:02:52.248814",
     "status": "completed"
    },
    "tags": []
   },
   "outputs": [
    {
     "name": "stdout",
     "output_type": "stream",
     "text": [
      "Epoch 1/15\n",
      "\u001b[1m40/40\u001b[0m \u001b[32m━━━━━━━━━━━━━━━━━━━━\u001b[0m\u001b[37m\u001b[0m \u001b[1m7s\u001b[0m 52ms/step - accuracy: 0.6427 - loss: 0.6845 - val_accuracy: 1.0000 - val_loss: 0.5892\n",
      "Epoch 2/15\n",
      "\u001b[1m40/40\u001b[0m \u001b[32m━━━━━━━━━━━━━━━━━━━━\u001b[0m\u001b[37m\u001b[0m \u001b[1m2s\u001b[0m 39ms/step - accuracy: 0.9581 - loss: 0.4813 - val_accuracy: 1.0000 - val_loss: 0.1525\n",
      "Epoch 3/15\n",
      "\u001b[1m40/40\u001b[0m \u001b[32m━━━━━━━━━━━━━━━━━━━━\u001b[0m\u001b[37m\u001b[0m \u001b[1m2s\u001b[0m 38ms/step - accuracy: 1.0000 - loss: 0.1201 - val_accuracy: 1.0000 - val_loss: 0.0363\n",
      "Epoch 4/15\n",
      "\u001b[1m40/40\u001b[0m \u001b[32m━━━━━━━━━━━━━━━━━━━━\u001b[0m\u001b[37m\u001b[0m \u001b[1m2s\u001b[0m 40ms/step - accuracy: 1.0000 - loss: 0.0281 - val_accuracy: 1.0000 - val_loss: 0.0161\n",
      "Epoch 5/15\n",
      "\u001b[1m40/40\u001b[0m \u001b[32m━━━━━━━━━━━━━━━━━━━━\u001b[0m\u001b[37m\u001b[0m \u001b[1m2s\u001b[0m 39ms/step - accuracy: 1.0000 - loss: 0.0141 - val_accuracy: 1.0000 - val_loss: 0.0100\n",
      "Epoch 6/15\n",
      "\u001b[1m40/40\u001b[0m \u001b[32m━━━━━━━━━━━━━━━━━━━━\u001b[0m\u001b[37m\u001b[0m \u001b[1m2s\u001b[0m 40ms/step - accuracy: 1.0000 - loss: 0.0094 - val_accuracy: 1.0000 - val_loss: 0.0070\n",
      "Epoch 7/15\n",
      "\u001b[1m40/40\u001b[0m \u001b[32m━━━━━━━━━━━━━━━━━━━━\u001b[0m\u001b[37m\u001b[0m \u001b[1m2s\u001b[0m 40ms/step - accuracy: 1.0000 - loss: 0.0064 - val_accuracy: 1.0000 - val_loss: 0.0059\n",
      "Epoch 8/15\n",
      "\u001b[1m40/40\u001b[0m \u001b[32m━━━━━━━━━━━━━━━━━━━━\u001b[0m\u001b[37m\u001b[0m \u001b[1m3s\u001b[0m 39ms/step - accuracy: 1.0000 - loss: 0.0053 - val_accuracy: 1.0000 - val_loss: 0.0042\n",
      "Epoch 9/15\n",
      "\u001b[1m40/40\u001b[0m \u001b[32m━━━━━━━━━━━━━━━━━━━━\u001b[0m\u001b[37m\u001b[0m \u001b[1m2s\u001b[0m 40ms/step - accuracy: 1.0000 - loss: 0.0040 - val_accuracy: 1.0000 - val_loss: 0.0035\n",
      "Epoch 10/15\n",
      "\u001b[1m40/40\u001b[0m \u001b[32m━━━━━━━━━━━━━━━━━━━━\u001b[0m\u001b[37m\u001b[0m \u001b[1m2s\u001b[0m 39ms/step - accuracy: 1.0000 - loss: 0.0033 - val_accuracy: 1.0000 - val_loss: 0.0029\n",
      "Epoch 11/15\n",
      "\u001b[1m40/40\u001b[0m \u001b[32m━━━━━━━━━━━━━━━━━━━━\u001b[0m\u001b[37m\u001b[0m \u001b[1m2s\u001b[0m 39ms/step - accuracy: 1.0000 - loss: 0.0027 - val_accuracy: 1.0000 - val_loss: 0.0024\n",
      "Epoch 12/15\n",
      "\u001b[1m40/40\u001b[0m \u001b[32m━━━━━━━━━━━━━━━━━━━━\u001b[0m\u001b[37m\u001b[0m \u001b[1m2s\u001b[0m 39ms/step - accuracy: 1.0000 - loss: 0.0023 - val_accuracy: 1.0000 - val_loss: 0.0020\n",
      "Epoch 13/15\n",
      "\u001b[1m40/40\u001b[0m \u001b[32m━━━━━━━━━━━━━━━━━━━━\u001b[0m\u001b[37m\u001b[0m \u001b[1m2s\u001b[0m 41ms/step - accuracy: 1.0000 - loss: 0.0020 - val_accuracy: 1.0000 - val_loss: 0.0017\n",
      "Epoch 14/15\n",
      "\u001b[1m40/40\u001b[0m \u001b[32m━━━━━━━━━━━━━━━━━━━━\u001b[0m\u001b[37m\u001b[0m \u001b[1m2s\u001b[0m 41ms/step - accuracy: 1.0000 - loss: 0.0014 - val_accuracy: 1.0000 - val_loss: 5.8707e-04\n",
      "Epoch 15/15\n",
      "\u001b[1m40/40\u001b[0m \u001b[32m━━━━━━━━━━━━━━━━━━━━\u001b[0m\u001b[37m\u001b[0m \u001b[1m2s\u001b[0m 39ms/step - accuracy: 1.0000 - loss: 5.1253e-04 - val_accuracy: 1.0000 - val_loss: 3.5754e-04\n"
     ]
    }
   ],
   "source": [
    "epochs = 15 # Choosing a reasonable number of epochs\n",
    "history = model.fit(X_train_padded, y_train, epochs=epochs, validation_split=0.2)"
   ]
  },
  {
   "cell_type": "markdown",
   "id": "8bfd009f",
   "metadata": {
    "papermill": {
     "duration": 0.02115,
     "end_time": "2025-09-10T15:03:23.035157",
     "exception": false,
     "start_time": "2025-09-10T15:03:23.014007",
     "status": "completed"
    },
    "tags": []
   },
   "source": [
    "## Evaluate the model"
   ]
  },
  {
   "cell_type": "code",
   "execution_count": 7,
   "id": "9625ea14",
   "metadata": {
    "execution": {
     "iopub.execute_input": "2025-09-10T15:03:23.079268Z",
     "iopub.status.busy": "2025-09-10T15:03:23.078922Z",
     "iopub.status.idle": "2025-09-10T15:03:23.084482Z",
     "shell.execute_reply": "2025-09-10T15:03:23.083613Z"
    },
    "papermill": {
     "duration": 0.029174,
     "end_time": "2025-09-10T15:03:23.086115",
     "exception": false,
     "start_time": "2025-09-10T15:03:23.056941",
     "status": "completed"
    },
    "tags": []
   },
   "outputs": [
    {
     "name": "stdout",
     "output_type": "stream",
     "text": [
      "Final validation loss: 0.00035753886913880706\n",
      "Final validation accuracy: 1.0\n"
     ]
    }
   ],
   "source": [
    "print(\"Final validation loss:\", history.history['val_loss'][-1])\n",
    "print(\"Final validation accuracy:\", history.history['val_accuracy'][-1])"
   ]
  },
  {
   "cell_type": "markdown",
   "id": "b5644d62",
   "metadata": {
    "papermill": {
     "duration": 0.020396,
     "end_time": "2025-09-10T15:03:23.127000",
     "exception": false,
     "start_time": "2025-09-10T15:03:23.106604",
     "status": "completed"
    },
    "tags": []
   },
   "source": [
    "## Make predictions"
   ]
  },
  {
   "cell_type": "code",
   "execution_count": 8,
   "id": "1b60ed16",
   "metadata": {
    "execution": {
     "iopub.execute_input": "2025-09-10T15:03:23.171285Z",
     "iopub.status.busy": "2025-09-10T15:03:23.170946Z",
     "iopub.status.idle": "2025-09-10T15:03:25.896836Z",
     "shell.execute_reply": "2025-09-10T15:03:25.895716Z"
    },
    "papermill": {
     "duration": 2.749369,
     "end_time": "2025-09-10T15:03:25.898543",
     "exception": false,
     "start_time": "2025-09-10T15:03:23.149174",
     "status": "completed"
    },
    "tags": []
   },
   "outputs": [
    {
     "name": "stdout",
     "output_type": "stream",
     "text": [
      "\u001b[1m157/157\u001b[0m \u001b[32m━━━━━━━━━━━━━━━━━━━━\u001b[0m\u001b[37m\u001b[0m \u001b[1m3s\u001b[0m 13ms/step\n",
      "Example raw prediction (probability): [0.00040709]\n",
      "Example binary prediction: [0]\n"
     ]
    }
   ],
   "source": [
    "# Make predictions on the padded test data\n",
    "predictions = model.predict(X_test_padded)\n",
    "\n",
    "# Convert probabilities to binary predictions (0 or 1) using a threshold of 0.5\n",
    "binary_predictions = (predictions > 0.5).astype(int)\n",
    "\n",
    "print(\"Example raw prediction (probability):\", predictions[0])\n",
    "print(\"Example binary prediction:\", binary_predictions[0])"
   ]
  },
  {
   "cell_type": "markdown",
   "id": "968e8a19",
   "metadata": {
    "papermill": {
     "duration": 0.023914,
     "end_time": "2025-09-10T15:03:25.944901",
     "exception": false,
     "start_time": "2025-09-10T15:03:25.920987",
     "status": "completed"
    },
    "tags": []
   },
   "source": [
    "## Generate submission file"
   ]
  },
  {
   "cell_type": "code",
   "execution_count": 9,
   "id": "527c4381",
   "metadata": {
    "execution": {
     "iopub.execute_input": "2025-09-10T15:03:25.992048Z",
     "iopub.status.busy": "2025-09-10T15:03:25.991718Z",
     "iopub.status.idle": "2025-09-10T15:03:26.013765Z",
     "shell.execute_reply": "2025-09-10T15:03:26.012664Z"
    },
    "papermill": {
     "duration": 0.046764,
     "end_time": "2025-09-10T15:03:26.015341",
     "exception": false,
     "start_time": "2025-09-10T15:03:25.968577",
     "status": "completed"
    },
    "tags": []
   },
   "outputs": [
    {
     "name": "stdout",
     "output_type": "stream",
     "text": [
      "Submission file saved as: /kaggle/working/submission.csv\n"
     ]
    },
    {
     "data": {
      "text/html": [
       "<div>\n",
       "<style scoped>\n",
       "    .dataframe tbody tr th:only-of-type {\n",
       "        vertical-align: middle;\n",
       "    }\n",
       "\n",
       "    .dataframe tbody tr th {\n",
       "        vertical-align: top;\n",
       "    }\n",
       "\n",
       "    .dataframe thead th {\n",
       "        text-align: right;\n",
       "    }\n",
       "</style>\n",
       "<table border=\"1\" class=\"dataframe\">\n",
       "  <thead>\n",
       "    <tr style=\"text-align: right;\">\n",
       "      <th></th>\n",
       "      <th>id</th>\n",
       "      <th>sentiment</th>\n",
       "    </tr>\n",
       "  </thead>\n",
       "  <tbody>\n",
       "    <tr>\n",
       "      <th>0</th>\n",
       "      <td>5000</td>\n",
       "      <td>0</td>\n",
       "    </tr>\n",
       "    <tr>\n",
       "      <th>1</th>\n",
       "      <td>5001</td>\n",
       "      <td>0</td>\n",
       "    </tr>\n",
       "    <tr>\n",
       "      <th>2</th>\n",
       "      <td>5002</td>\n",
       "      <td>0</td>\n",
       "    </tr>\n",
       "    <tr>\n",
       "      <th>3</th>\n",
       "      <td>5003</td>\n",
       "      <td>0</td>\n",
       "    </tr>\n",
       "    <tr>\n",
       "      <th>4</th>\n",
       "      <td>5004</td>\n",
       "      <td>0</td>\n",
       "    </tr>\n",
       "  </tbody>\n",
       "</table>\n",
       "</div>"
      ],
      "text/plain": [
       "     id  sentiment\n",
       "0  5000          0\n",
       "1  5001          0\n",
       "2  5002          0\n",
       "3  5003          0\n",
       "4  5004          0"
      ]
     },
     "metadata": {},
     "output_type": "display_data"
    }
   ],
   "source": [
    "submission_df = pd.DataFrame()\n",
    "submission_df[\"id\"] = test_df[\"id\"]\n",
    "submission_df[\"sentiment\"] = binary_predictions\n",
    "output_path = \"/kaggle/working/submission.csv\"\n",
    "submission_df.to_csv(output_path, index=False)\n",
    "print(f\"Submission file saved as: {output_path}\")\n",
    "display(submission_df.head())"
   ]
  },
  {
   "cell_type": "markdown",
   "id": "edf03e72",
   "metadata": {
    "papermill": {
     "duration": 0.023048,
     "end_time": "2025-09-10T15:03:26.061504",
     "exception": false,
     "start_time": "2025-09-10T15:03:26.038456",
     "status": "completed"
    },
    "tags": []
   },
   "source": [
    "## Summary\n",
    "\n",
    "Data Analysis Key Findings\n",
    "The training and test datasets were successfully loaded and contained no missing values.\n",
    "The text data was preprocessed by tokenizing the reviews and padding the sequences to a fixed length of 100.\n",
    "A sequential TensorFlow model was built with an Embedding layer, a Bidirectional LSTM layer, and a Dense output layer with sigmoid activation.\n",
    "The model was compiled using the Adam optimizer and binary crossentropy loss, with accuracy as the evaluation metric.\n",
    "The model was trained for 15 epochs with a 20% validation split, achieving a final validation loss of approximately 0.00108 and a final validation accuracy of 1.0.\n",
    "Predictions were made on the test data, and the probabilistic outputs were converted to binary sentiment labels (0 or 1) using a 0.5 threshold.\n",
    "A submission file named submission.csv was generated containing the 'id' from the test set and the predicted 'sentiment'."
   ]
  }
 ],
 "metadata": {
  "kaggle": {
   "accelerator": "none",
   "dataSources": [
    {
     "databundleVersionId": 13395213,
     "sourceId": 112499,
     "sourceType": "competition"
    }
   ],
   "dockerImageVersionId": 31089,
   "isGpuEnabled": false,
   "isInternetEnabled": true,
   "language": "python",
   "sourceType": "notebook"
  },
  "kernelspec": {
   "display_name": "Python 3",
   "language": "python",
   "name": "python3"
  },
  "language_info": {
   "codemirror_mode": {
    "name": "ipython",
    "version": 3
   },
   "file_extension": ".py",
   "mimetype": "text/x-python",
   "name": "python",
   "nbconvert_exporter": "python",
   "pygments_lexer": "ipython3",
   "version": "3.11.13"
  },
  "papermill": {
   "default_parameters": {},
   "duration": 62.772528,
   "end_time": "2025-09-10T15:03:29.194992",
   "environment_variables": {},
   "exception": null,
   "input_path": "__notebook__.ipynb",
   "output_path": "__notebook__.ipynb",
   "parameters": {},
   "start_time": "2025-09-10T15:02:26.422464",
   "version": "2.6.0"
  }
 },
 "nbformat": 4,
 "nbformat_minor": 5
}
